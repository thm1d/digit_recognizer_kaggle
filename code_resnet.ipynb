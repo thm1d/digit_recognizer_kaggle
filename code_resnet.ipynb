{
 "cells": [
  {
   "cell_type": "code",
   "execution_count": 1,
   "id": "6801da5f",
   "metadata": {},
   "outputs": [],
   "source": [
    "# importing the dependencies\n",
    "import numpy as np \n",
    "import pandas as pd \n",
    "import os\n",
    "import matplotlib.pyplot as plt\n",
    "import seaborn as sns\n",
    "from tensorflow.keras.models import load_model\n",
    "import keras\n",
    "from keras.models import Model\n",
    "from keras.models import Sequential\n",
    "from keras.layers import MaxPool2D , LayerNormalization\n",
    "from keras.preprocessing.image import ImageDataGenerator\n",
    "from sklearn.model_selection import train_test_split\n",
    "from sklearn.metrics import classification_report,confusion_matrix\n",
    "from keras.callbacks import ReduceLROnPlateau\n",
    "from keras.layers import Activation, Input, Conv2D, Add, Flatten, AveragePooling2D, Dense, Dropout, BatchNormalization\n",
    "from keras.utils.vis_utils import plot_model\n",
    "from keras.preprocessing.image import ImageDataGenerator\n",
    "from keras.callbacks import ModelCheckpoint, LearningRateScheduler\n",
    "import h5py"
   ]
  },
  {
   "cell_type": "code",
   "execution_count": 2,
   "id": "c92108a4",
   "metadata": {},
   "outputs": [
    {
     "name": "stdout",
     "output_type": "stream",
     "text": [
      "..\\Datasets\\Digit Recognizer\\sample_submission.csv\n",
      "..\\Datasets\\Digit Recognizer\\test.csv\n",
      "..\\Datasets\\Digit Recognizer\\test.csv.zip\n",
      "..\\Datasets\\Digit Recognizer\\train.csv\n",
      "..\\Datasets\\Digit Recognizer\\train.csv.zip\n"
     ]
    }
   ],
   "source": [
    "for dirname, _, filenames in os.walk('..\\Datasets\\Digit Recognizer'):\n",
    "    for filename in filenames:\n",
    "        print(os.path.join(dirname, filename))"
   ]
  },
  {
   "cell_type": "code",
   "execution_count": 3,
   "id": "ca22ad90",
   "metadata": {},
   "outputs": [],
   "source": [
    "# loading the dataset\n",
    "train_df = pd.read_csv(\"../Datasets/Digit Recognizer/train.csv\")\n",
    "test_df = pd.read_csv(\"../Datasets/Digit Recognizer/test.csv\")\n",
    "train = pd.read_csv(\"../Datasets/Digit Recognizer/train.csv\") \n",
    "test = pd.read_csv(\"../Datasets/Digit Recognizer/test.csv\")"
   ]
  },
  {
   "cell_type": "code",
   "execution_count": 4,
   "id": "aa156bc3",
   "metadata": {},
   "outputs": [],
   "source": [
    "y = train_df['label']\n",
    "del train_df['label']"
   ]
  },
  {
   "cell_type": "code",
   "execution_count": 5,
   "id": "58a2b0ac",
   "metadata": {},
   "outputs": [],
   "source": [
    "y = y.values"
   ]
  },
  {
   "cell_type": "code",
   "execution_count": 6,
   "id": "c4b32894",
   "metadata": {},
   "outputs": [],
   "source": [
    "from sklearn.preprocessing import LabelBinarizer\n",
    "label_binarizer = LabelBinarizer()\n",
    "y_train_bin = label_binarizer.fit_transform(y)"
   ]
  },
  {
   "cell_type": "code",
   "execution_count": 7,
   "id": "e0099e8b",
   "metadata": {},
   "outputs": [],
   "source": [
    "X_train = train_df.values\n",
    "X_test = test_df.values"
   ]
  },
  {
   "cell_type": "code",
   "execution_count": 8,
   "id": "14bf04ad",
   "metadata": {},
   "outputs": [],
   "source": [
    "# Normalize the data\n",
    "X_train = X_train / 255\n",
    "X_test = X_test / 255"
   ]
  },
  {
   "cell_type": "code",
   "execution_count": 9,
   "id": "fbbed9a7",
   "metadata": {},
   "outputs": [],
   "source": [
    "X_train_all = X_train.reshape(X_train.shape[0],28, 28,1).astype('float32')\n",
    "X_test_all = X_test.reshape(X_test.shape[0],28, 28,1).astype('float32')"
   ]
  },
  {
   "cell_type": "code",
   "execution_count": 10,
   "id": "7dbf75e1",
   "metadata": {},
   "outputs": [],
   "source": [
    "from sklearn.model_selection import train_test_split\n",
    "X_train, X_val, y_train, y_val = train_test_split(X_train_all, y, test_size=0.20, random_state=42, shuffle=True)"
   ]
  },
  {
   "cell_type": "code",
   "execution_count": 11,
   "id": "67cefde3",
   "metadata": {},
   "outputs": [
    {
     "data": {
      "image/png": "[encoded data removed]",
      "text/plain": [
       "<Figure size 432x288 with 1 Axes>"
      ]
     },
     "metadata": {
      "needs_background": "light"
     },
     "output_type": "display_data"
    },
    {
     "data": {
      "text/plain": [
       "6"
      ]
     },
     "execution_count": 11,
     "metadata": {},
     "output_type": "execute_result"
    }
   ],
   "source": [
    "index = 123\n",
    "plt.imshow(X_train[index])\n",
    "plt.show()\n",
    "y_train[index]"
   ]
  },
  {
   "cell_type": "code",
   "execution_count": 12,
   "id": "120b81d2",
   "metadata": {},
   "outputs": [],
   "source": [
    "def blocks(x, strides, filters):\n",
    "    y = x\n",
    "    \n",
    "    x = Conv2D(filters, kernel_size = 3, padding = \"same\", strides = strides)(x)\n",
    "    x = BatchNormalization()(x)\n",
    "    x = Activation(\"relu\")(x)\n",
    "    \n",
    "    x = Conv2D(filters, kernel_size = 3, padding = \"same\", strides = (1, 1))(x)\n",
    "    x = BatchNormalization()(x)\n",
    "    \n",
    "    \n",
    "    if strides[0] > 1:\n",
    "        y = Conv2D(filters, kernel_size = 3, padding = \"same\", strides = strides)(y)\n",
    "        y = BatchNormalization()(y)\n",
    "        \n",
    "    x = Add()([x, y])\n",
    "    return x"
   ]
  },
  {
   "cell_type": "code",
   "execution_count": 13,
   "id": "73430ce0",
   "metadata": {},
   "outputs": [],
   "source": [
    "def residual_net(input_shape, num_classes, filters, blks):\n",
    "    inputs = Input(input_shape)\n",
    "    x = Conv2D(filters, kernel_size = 7, padding = \"same\", strides = (1, 1))(inputs)\n",
    "    x = BatchNormalization()(x)\n",
    "    x = Activation(\"relu\")(x)\n",
    "    \n",
    "    # Adding residual blocks\n",
    "    for block in blks:\n",
    "        x = blocks(x, strides = (2, 2), filters = filters)\n",
    "        for i in range(block - 1):\n",
    "            x = blocks(x, strides = (1, 1), filters = filters)\n",
    "        filters *= 2\n",
    "        \n",
    "    x = AveragePooling2D(4)(x)\n",
    "    x = Flatten()(x)\n",
    "    x = Dropout(0.3)(x)\n",
    "    x = Dense(int(filters/4), activation='relu')(x)\n",
    "    outputs = Dense(10, activation='softmax')(x)\n",
    "    \n",
    "    # Instantiate model\n",
    "    model = Model(inputs=inputs, outputs=outputs)\n",
    "    return model  "
   ]
  },
  {
   "cell_type": "code",
   "execution_count": 14,
   "id": "e543b03b",
   "metadata": {},
   "outputs": [],
   "source": [
    "model = residual_net(\n",
    "    input_shape=X_train[0].shape, \n",
    "    num_classes=10, \n",
    "    filters=64, \n",
    "    blks=[2,2,2]\n",
    ")\n",
    "# resnet_architecture = plot_model(model, show_shapes=True, show_layer_names=False)\n",
    "# resnet_architecture.width = 600\n",
    "# resnet_architecture"
   ]
  },
  {
   "cell_type": "code",
   "execution_count": 15,
   "id": "206e9a42",
   "metadata": {},
   "outputs": [],
   "source": [
    "def train(epochs, batch_size, i):\n",
    "    model = residual_net(\n",
    "    input_shape=X_train[0].shape, \n",
    "    num_classes=10, \n",
    "    filters=64, \n",
    "    blks=[3,3,3])\n",
    "    \n",
    "    model.compile(loss = \"sparse_categorical_crossentropy\", optimizer = \"adam\", metrics = [\"accuracy\"])\n",
    "    \n",
    "    checkpoint = ModelCheckpoint(\n",
    "    filepath=f'resnet-{i}.hdf5',\n",
    "    monitor='loss',\n",
    "    save_best_only=True\n",
    "    )\n",
    "    def scheduler(epoch):\n",
    "        return 0.001 * 0.8**epoch\n",
    "    schedule = LearningRateScheduler(scheduler)\n",
    "    callbacks = [checkpoint, schedule]\n",
    "    \n",
    "    train_datagen = ImageDataGenerator(  \n",
    "        rotation_range=10,  \n",
    "        zoom_range=0.1, \n",
    "        width_shift_range=0.1, \n",
    "        height_shift_range=0.1)\n",
    "    \n",
    "    train_datagen.fit(X_train)\n",
    "\n",
    "    # Fit model\n",
    "    history = model.fit_generator(\n",
    "        train_datagen.flow(X_train, y_train, batch_size=batch_size),\n",
    "        epochs=epochs, \n",
    "        verbose=2, \n",
    "        callbacks=callbacks)\n",
    "    \n",
    "    return history, model"
   ]
  },
  {
   "cell_type": "code",
   "execution_count": 16,
   "id": "e09ded51",
   "metadata": {},
   "outputs": [
    {
     "name": "stdout",
     "output_type": "stream",
     "text": [
      "####################\n",
      "Model number 1\n",
      "####################\n"
     ]
    },
    {
     "name": "stderr",
     "output_type": "stream",
     "text": [
      "C:\\Users\\tahmi\\AppData\\Local\\Temp/ipykernel_2520/124342405.py:29: UserWarning: `Model.fit_generator` is deprecated and will be removed in a future version. Please use `Model.fit`, which supports generators.\n",
      "  history = model.fit_generator(\n"
     ]
    },
    {
     "name": "stdout",
     "output_type": "stream",
     "text": [
      "Epoch 1/12\n",
      "263/263 - 864s - loss: 0.2607 - accuracy: 0.9163 - lr: 0.0010 - 864s/epoch - 3s/step\n",
      "Epoch 2/12\n",
      "263/263 - 915s - loss: 0.0886 - accuracy: 0.9742 - lr: 8.0000e-04 - 915s/epoch - 3s/step\n",
      "Epoch 3/12\n",
      "263/263 - 796s - loss: 0.0608 - accuracy: 0.9807 - lr: 6.4000e-04 - 796s/epoch - 3s/step\n",
      "Epoch 4/12\n",
      "263/263 - 783s - loss: 0.0441 - accuracy: 0.9867 - lr: 5.1200e-04 - 783s/epoch - 3s/step\n",
      "Epoch 5/12\n",
      "263/263 - 754s - loss: 0.0388 - accuracy: 0.9879 - lr: 4.0960e-04 - 754s/epoch - 3s/step\n",
      "Epoch 6/12\n",
      "263/263 - 777s - loss: 0.0313 - accuracy: 0.9904 - lr: 3.2768e-04 - 777s/epoch - 3s/step\n",
      "Epoch 7/12\n",
      "263/263 - 734s - loss: 0.0281 - accuracy: 0.9913 - lr: 2.6214e-04 - 734s/epoch - 3s/step\n",
      "Epoch 8/12\n",
      "263/263 - 738s - loss: 0.0258 - accuracy: 0.9917 - lr: 2.0972e-04 - 738s/epoch - 3s/step\n",
      "Epoch 9/12\n",
      "263/263 - 736s - loss: 0.0223 - accuracy: 0.9933 - lr: 1.6777e-04 - 736s/epoch - 3s/step\n",
      "Epoch 10/12\n",
      "263/263 - 728s - loss: 0.0185 - accuracy: 0.9941 - lr: 1.3422e-04 - 728s/epoch - 3s/step\n",
      "Epoch 11/12\n",
      "263/263 - 722s - loss: 0.0161 - accuracy: 0.9947 - lr: 1.0737e-04 - 722s/epoch - 3s/step\n",
      "Epoch 12/12\n",
      "263/263 - 724s - loss: 0.0159 - accuracy: 0.9955 - lr: 8.5899e-05 - 724s/epoch - 3s/step\n",
      "####################\n",
      "Model number 2\n",
      "####################\n",
      "Epoch 1/12\n",
      "263/263 - 728s - loss: 0.2600 - accuracy: 0.9185 - lr: 0.0010 - 728s/epoch - 3s/step\n",
      "Epoch 2/12\n",
      "263/263 - 733s - loss: 0.0827 - accuracy: 0.9752 - lr: 8.0000e-04 - 733s/epoch - 3s/step\n",
      "Epoch 3/12\n",
      "263/263 - 725s - loss: 0.0590 - accuracy: 0.9817 - lr: 6.4000e-04 - 725s/epoch - 3s/step\n",
      "Epoch 4/12\n",
      "263/263 - 832s - loss: 0.0458 - accuracy: 0.9863 - lr: 5.1200e-04 - 832s/epoch - 3s/step\n",
      "Epoch 5/12\n",
      "263/263 - 1035s - loss: 0.0391 - accuracy: 0.9878 - lr: 4.0960e-04 - 1035s/epoch - 4s/step\n",
      "Epoch 6/12\n",
      "263/263 - 923s - loss: 0.0329 - accuracy: 0.9897 - lr: 3.2768e-04 - 923s/epoch - 4s/step\n",
      "Epoch 7/12\n",
      "263/263 - 828s - loss: 0.0290 - accuracy: 0.9909 - lr: 2.6214e-04 - 828s/epoch - 3s/step\n",
      "Epoch 8/12\n",
      "263/263 - 831s - loss: 0.0246 - accuracy: 0.9923 - lr: 2.0972e-04 - 831s/epoch - 3s/step\n",
      "Epoch 9/12\n",
      "263/263 - 846s - loss: 0.0227 - accuracy: 0.9929 - lr: 1.6777e-04 - 846s/epoch - 3s/step\n",
      "Epoch 10/12\n",
      "263/263 - 888s - loss: 0.0179 - accuracy: 0.9942 - lr: 1.3422e-04 - 888s/epoch - 3s/step\n",
      "Epoch 11/12\n",
      "263/263 - 821s - loss: 0.0183 - accuracy: 0.9941 - lr: 1.0737e-04 - 821s/epoch - 3s/step\n",
      "Epoch 12/12\n",
      "263/263 - 1120s - loss: 0.0144 - accuracy: 0.9961 - lr: 8.5899e-05 - 1120s/epoch - 4s/step\n",
      "####################\n",
      "Model number 3\n",
      "####################\n",
      "Epoch 1/12\n"
     ]
    },
    {
     "ename": "KeyboardInterrupt",
     "evalue": "",
     "output_type": "error",
     "traceback": [
      "\u001b[1;31m---------------------------------------------------------------------------\u001b[0m",
      "\u001b[1;31mKeyboardInterrupt\u001b[0m                         Traceback (most recent call last)",
      "\u001b[1;32m~\\AppData\\Local\\Temp/ipykernel_2520/2072841207.py\u001b[0m in \u001b[0;36m<module>\u001b[1;34m\u001b[0m\n\u001b[0;32m      6\u001b[0m     \u001b[0mprint\u001b[0m\u001b[1;33m(\u001b[0m\u001b[1;34m\"#\"\u001b[0m\u001b[1;33m*\u001b[0m\u001b[1;36m20\u001b[0m\u001b[1;33m)\u001b[0m\u001b[1;33m\u001b[0m\u001b[1;33m\u001b[0m\u001b[0m\n\u001b[0;32m      7\u001b[0m \u001b[1;33m\u001b[0m\u001b[0m\n\u001b[1;32m----> 8\u001b[1;33m     history, model = train(\n\u001b[0m\u001b[0;32m      9\u001b[0m         \u001b[0mepochs\u001b[0m\u001b[1;33m=\u001b[0m\u001b[1;36m12\u001b[0m\u001b[1;33m,\u001b[0m\u001b[1;33m\u001b[0m\u001b[1;33m\u001b[0m\u001b[0m\n\u001b[0;32m     10\u001b[0m         batch_size=128, i = i+1)\n",
      "\u001b[1;32m~\\AppData\\Local\\Temp/ipykernel_2520/124342405.py\u001b[0m in \u001b[0;36mtrain\u001b[1;34m(epochs, batch_size, i)\u001b[0m\n\u001b[0;32m     27\u001b[0m \u001b[1;33m\u001b[0m\u001b[0m\n\u001b[0;32m     28\u001b[0m     \u001b[1;31m# Fit model\u001b[0m\u001b[1;33m\u001b[0m\u001b[1;33m\u001b[0m\u001b[0m\n\u001b[1;32m---> 29\u001b[1;33m     history = model.fit_generator(\n\u001b[0m\u001b[0;32m     30\u001b[0m         \u001b[0mtrain_datagen\u001b[0m\u001b[1;33m.\u001b[0m\u001b[0mflow\u001b[0m\u001b[1;33m(\u001b[0m\u001b[0mX_train\u001b[0m\u001b[1;33m,\u001b[0m \u001b[0my_train\u001b[0m\u001b[1;33m,\u001b[0m \u001b[0mbatch_size\u001b[0m\u001b[1;33m=\u001b[0m\u001b[0mbatch_size\u001b[0m\u001b[1;33m)\u001b[0m\u001b[1;33m,\u001b[0m\u001b[1;33m\u001b[0m\u001b[1;33m\u001b[0m\u001b[0m\n\u001b[0;32m     31\u001b[0m         \u001b[0mepochs\u001b[0m\u001b[1;33m=\u001b[0m\u001b[0mepochs\u001b[0m\u001b[1;33m,\u001b[0m\u001b[1;33m\u001b[0m\u001b[1;33m\u001b[0m\u001b[0m\n",
      "\u001b[1;32m~\\anaconda3\\lib\\site-packages\\keras\\engine\\training.py\u001b[0m in \u001b[0;36mfit_generator\u001b[1;34m(self, generator, steps_per_epoch, epochs, verbose, callbacks, validation_data, validation_steps, validation_freq, class_weight, max_queue_size, workers, use_multiprocessing, shuffle, initial_epoch)\u001b[0m\n\u001b[0;32m   2258\u001b[0m         \u001b[1;34m'Please use `Model.fit`, which supports generators.'\u001b[0m\u001b[1;33m,\u001b[0m\u001b[1;33m\u001b[0m\u001b[1;33m\u001b[0m\u001b[0m\n\u001b[0;32m   2259\u001b[0m         stacklevel=2)\n\u001b[1;32m-> 2260\u001b[1;33m     return self.fit(\n\u001b[0m\u001b[0;32m   2261\u001b[0m         \u001b[0mgenerator\u001b[0m\u001b[1;33m,\u001b[0m\u001b[1;33m\u001b[0m\u001b[1;33m\u001b[0m\u001b[0m\n\u001b[0;32m   2262\u001b[0m         \u001b[0msteps_per_epoch\u001b[0m\u001b[1;33m=\u001b[0m\u001b[0msteps_per_epoch\u001b[0m\u001b[1;33m,\u001b[0m\u001b[1;33m\u001b[0m\u001b[1;33m\u001b[0m\u001b[0m\n",
      "\u001b[1;32m~\\anaconda3\\lib\\site-packages\\keras\\utils\\traceback_utils.py\u001b[0m in \u001b[0;36merror_handler\u001b[1;34m(*args, **kwargs)\u001b[0m\n\u001b[0;32m     62\u001b[0m     \u001b[0mfiltered_tb\u001b[0m \u001b[1;33m=\u001b[0m \u001b[1;32mNone\u001b[0m\u001b[1;33m\u001b[0m\u001b[1;33m\u001b[0m\u001b[0m\n\u001b[0;32m     63\u001b[0m     \u001b[1;32mtry\u001b[0m\u001b[1;33m:\u001b[0m\u001b[1;33m\u001b[0m\u001b[1;33m\u001b[0m\u001b[0m\n\u001b[1;32m---> 64\u001b[1;33m       \u001b[1;32mreturn\u001b[0m \u001b[0mfn\u001b[0m\u001b[1;33m(\u001b[0m\u001b[1;33m*\u001b[0m\u001b[0margs\u001b[0m\u001b[1;33m,\u001b[0m \u001b[1;33m**\u001b[0m\u001b[0mkwargs\u001b[0m\u001b[1;33m)\u001b[0m\u001b[1;33m\u001b[0m\u001b[1;33m\u001b[0m\u001b[0m\n\u001b[0m\u001b[0;32m     65\u001b[0m     \u001b[1;32mexcept\u001b[0m \u001b[0mException\u001b[0m \u001b[1;32mas\u001b[0m \u001b[0me\u001b[0m\u001b[1;33m:\u001b[0m  \u001b[1;31m# pylint: disable=broad-except\u001b[0m\u001b[1;33m\u001b[0m\u001b[1;33m\u001b[0m\u001b[0m\n\u001b[0;32m     66\u001b[0m       \u001b[0mfiltered_tb\u001b[0m \u001b[1;33m=\u001b[0m \u001b[0m_process_traceback_frames\u001b[0m\u001b[1;33m(\u001b[0m\u001b[0me\u001b[0m\u001b[1;33m.\u001b[0m\u001b[0m__traceback__\u001b[0m\u001b[1;33m)\u001b[0m\u001b[1;33m\u001b[0m\u001b[1;33m\u001b[0m\u001b[0m\n",
      "\u001b[1;32m~\\anaconda3\\lib\\site-packages\\keras\\engine\\training.py\u001b[0m in \u001b[0;36mfit\u001b[1;34m(self, x, y, batch_size, epochs, verbose, callbacks, validation_split, validation_data, shuffle, class_weight, sample_weight, initial_epoch, steps_per_epoch, validation_steps, validation_batch_size, validation_freq, max_queue_size, workers, use_multiprocessing)\u001b[0m\n\u001b[0;32m   1407\u001b[0m                 _r=1):\n\u001b[0;32m   1408\u001b[0m               \u001b[0mcallbacks\u001b[0m\u001b[1;33m.\u001b[0m\u001b[0mon_train_batch_begin\u001b[0m\u001b[1;33m(\u001b[0m\u001b[0mstep\u001b[0m\u001b[1;33m)\u001b[0m\u001b[1;33m\u001b[0m\u001b[1;33m\u001b[0m\u001b[0m\n\u001b[1;32m-> 1409\u001b[1;33m               \u001b[0mtmp_logs\u001b[0m \u001b[1;33m=\u001b[0m \u001b[0mself\u001b[0m\u001b[1;33m.\u001b[0m\u001b[0mtrain_function\u001b[0m\u001b[1;33m(\u001b[0m\u001b[0miterator\u001b[0m\u001b[1;33m)\u001b[0m\u001b[1;33m\u001b[0m\u001b[1;33m\u001b[0m\u001b[0m\n\u001b[0m\u001b[0;32m   1410\u001b[0m               \u001b[1;32mif\u001b[0m \u001b[0mdata_handler\u001b[0m\u001b[1;33m.\u001b[0m\u001b[0mshould_sync\u001b[0m\u001b[1;33m:\u001b[0m\u001b[1;33m\u001b[0m\u001b[1;33m\u001b[0m\u001b[0m\n\u001b[0;32m   1411\u001b[0m                 \u001b[0mcontext\u001b[0m\u001b[1;33m.\u001b[0m\u001b[0masync_wait\u001b[0m\u001b[1;33m(\u001b[0m\u001b[1;33m)\u001b[0m\u001b[1;33m\u001b[0m\u001b[1;33m\u001b[0m\u001b[0m\n",
      "\u001b[1;32m~\\anaconda3\\lib\\site-packages\\tensorflow\\python\\util\\traceback_utils.py\u001b[0m in \u001b[0;36merror_handler\u001b[1;34m(*args, **kwargs)\u001b[0m\n\u001b[0;32m    148\u001b[0m     \u001b[0mfiltered_tb\u001b[0m \u001b[1;33m=\u001b[0m \u001b[1;32mNone\u001b[0m\u001b[1;33m\u001b[0m\u001b[1;33m\u001b[0m\u001b[0m\n\u001b[0;32m    149\u001b[0m     \u001b[1;32mtry\u001b[0m\u001b[1;33m:\u001b[0m\u001b[1;33m\u001b[0m\u001b[1;33m\u001b[0m\u001b[0m\n\u001b[1;32m--> 150\u001b[1;33m       \u001b[1;32mreturn\u001b[0m \u001b[0mfn\u001b[0m\u001b[1;33m(\u001b[0m\u001b[1;33m*\u001b[0m\u001b[0margs\u001b[0m\u001b[1;33m,\u001b[0m \u001b[1;33m**\u001b[0m\u001b[0mkwargs\u001b[0m\u001b[1;33m)\u001b[0m\u001b[1;33m\u001b[0m\u001b[1;33m\u001b[0m\u001b[0m\n\u001b[0m\u001b[0;32m    151\u001b[0m     \u001b[1;32mexcept\u001b[0m \u001b[0mException\u001b[0m \u001b[1;32mas\u001b[0m \u001b[0me\u001b[0m\u001b[1;33m:\u001b[0m\u001b[1;33m\u001b[0m\u001b[1;33m\u001b[0m\u001b[0m\n\u001b[0;32m    152\u001b[0m       \u001b[0mfiltered_tb\u001b[0m \u001b[1;33m=\u001b[0m \u001b[0m_process_traceback_frames\u001b[0m\u001b[1;33m(\u001b[0m\u001b[0me\u001b[0m\u001b[1;33m.\u001b[0m\u001b[0m__traceback__\u001b[0m\u001b[1;33m)\u001b[0m\u001b[1;33m\u001b[0m\u001b[1;33m\u001b[0m\u001b[0m\n",
      "\u001b[1;32m~\\anaconda3\\lib\\site-packages\\tensorflow\\python\\eager\\def_function.py\u001b[0m in \u001b[0;36m__call__\u001b[1;34m(self, *args, **kwds)\u001b[0m\n\u001b[0;32m    913\u001b[0m \u001b[1;33m\u001b[0m\u001b[0m\n\u001b[0;32m    914\u001b[0m       \u001b[1;32mwith\u001b[0m \u001b[0mOptionalXlaContext\u001b[0m\u001b[1;33m(\u001b[0m\u001b[0mself\u001b[0m\u001b[1;33m.\u001b[0m\u001b[0m_jit_compile\u001b[0m\u001b[1;33m)\u001b[0m\u001b[1;33m:\u001b[0m\u001b[1;33m\u001b[0m\u001b[1;33m\u001b[0m\u001b[0m\n\u001b[1;32m--> 915\u001b[1;33m         \u001b[0mresult\u001b[0m \u001b[1;33m=\u001b[0m \u001b[0mself\u001b[0m\u001b[1;33m.\u001b[0m\u001b[0m_call\u001b[0m\u001b[1;33m(\u001b[0m\u001b[1;33m*\u001b[0m\u001b[0margs\u001b[0m\u001b[1;33m,\u001b[0m \u001b[1;33m**\u001b[0m\u001b[0mkwds\u001b[0m\u001b[1;33m)\u001b[0m\u001b[1;33m\u001b[0m\u001b[1;33m\u001b[0m\u001b[0m\n\u001b[0m\u001b[0;32m    916\u001b[0m \u001b[1;33m\u001b[0m\u001b[0m\n\u001b[0;32m    917\u001b[0m       \u001b[0mnew_tracing_count\u001b[0m \u001b[1;33m=\u001b[0m \u001b[0mself\u001b[0m\u001b[1;33m.\u001b[0m\u001b[0mexperimental_get_tracing_count\u001b[0m\u001b[1;33m(\u001b[0m\u001b[1;33m)\u001b[0m\u001b[1;33m\u001b[0m\u001b[1;33m\u001b[0m\u001b[0m\n",
      "\u001b[1;32m~\\anaconda3\\lib\\site-packages\\tensorflow\\python\\eager\\def_function.py\u001b[0m in \u001b[0;36m_call\u001b[1;34m(self, *args, **kwds)\u001b[0m\n\u001b[0;32m    945\u001b[0m       \u001b[1;31m# In this case we have created variables on the first call, so we run the\u001b[0m\u001b[1;33m\u001b[0m\u001b[1;33m\u001b[0m\u001b[0m\n\u001b[0;32m    946\u001b[0m       \u001b[1;31m# defunned version which is guaranteed to never create variables.\u001b[0m\u001b[1;33m\u001b[0m\u001b[1;33m\u001b[0m\u001b[0m\n\u001b[1;32m--> 947\u001b[1;33m       \u001b[1;32mreturn\u001b[0m \u001b[0mself\u001b[0m\u001b[1;33m.\u001b[0m\u001b[0m_stateless_fn\u001b[0m\u001b[1;33m(\u001b[0m\u001b[1;33m*\u001b[0m\u001b[0margs\u001b[0m\u001b[1;33m,\u001b[0m \u001b[1;33m**\u001b[0m\u001b[0mkwds\u001b[0m\u001b[1;33m)\u001b[0m  \u001b[1;31m# pylint: disable=not-callable\u001b[0m\u001b[1;33m\u001b[0m\u001b[1;33m\u001b[0m\u001b[0m\n\u001b[0m\u001b[0;32m    948\u001b[0m     \u001b[1;32melif\u001b[0m \u001b[0mself\u001b[0m\u001b[1;33m.\u001b[0m\u001b[0m_stateful_fn\u001b[0m \u001b[1;32mis\u001b[0m \u001b[1;32mnot\u001b[0m \u001b[1;32mNone\u001b[0m\u001b[1;33m:\u001b[0m\u001b[1;33m\u001b[0m\u001b[1;33m\u001b[0m\u001b[0m\n\u001b[0;32m    949\u001b[0m       \u001b[1;31m# Release the lock early so that multiple threads can perform the call\u001b[0m\u001b[1;33m\u001b[0m\u001b[1;33m\u001b[0m\u001b[0m\n",
      "\u001b[1;32m~\\anaconda3\\lib\\site-packages\\tensorflow\\python\\eager\\function.py\u001b[0m in \u001b[0;36m__call__\u001b[1;34m(self, *args, **kwargs)\u001b[0m\n\u001b[0;32m   2451\u001b[0m       (graph_function,\n\u001b[0;32m   2452\u001b[0m        filtered_flat_args) = self._maybe_define_function(args, kwargs)\n\u001b[1;32m-> 2453\u001b[1;33m     return graph_function._call_flat(\n\u001b[0m\u001b[0;32m   2454\u001b[0m         filtered_flat_args, captured_inputs=graph_function.captured_inputs)  # pylint: disable=protected-access\n\u001b[0;32m   2455\u001b[0m \u001b[1;33m\u001b[0m\u001b[0m\n",
      "\u001b[1;32m~\\anaconda3\\lib\\site-packages\\tensorflow\\python\\eager\\function.py\u001b[0m in \u001b[0;36m_call_flat\u001b[1;34m(self, args, captured_inputs, cancellation_manager)\u001b[0m\n\u001b[0;32m   1858\u001b[0m         and executing_eagerly):\n\u001b[0;32m   1859\u001b[0m       \u001b[1;31m# No tape is watching; skip to running the function.\u001b[0m\u001b[1;33m\u001b[0m\u001b[1;33m\u001b[0m\u001b[0m\n\u001b[1;32m-> 1860\u001b[1;33m       return self._build_call_outputs(self._inference_function.call(\n\u001b[0m\u001b[0;32m   1861\u001b[0m           ctx, args, cancellation_manager=cancellation_manager))\n\u001b[0;32m   1862\u001b[0m     forward_backward = self._select_forward_and_backward_functions(\n",
      "\u001b[1;32m~\\anaconda3\\lib\\site-packages\\tensorflow\\python\\eager\\function.py\u001b[0m in \u001b[0;36mcall\u001b[1;34m(self, ctx, args, cancellation_manager)\u001b[0m\n\u001b[0;32m    495\u001b[0m       \u001b[1;32mwith\u001b[0m \u001b[0m_InterpolateFunctionError\u001b[0m\u001b[1;33m(\u001b[0m\u001b[0mself\u001b[0m\u001b[1;33m)\u001b[0m\u001b[1;33m:\u001b[0m\u001b[1;33m\u001b[0m\u001b[1;33m\u001b[0m\u001b[0m\n\u001b[0;32m    496\u001b[0m         \u001b[1;32mif\u001b[0m \u001b[0mcancellation_manager\u001b[0m \u001b[1;32mis\u001b[0m \u001b[1;32mNone\u001b[0m\u001b[1;33m:\u001b[0m\u001b[1;33m\u001b[0m\u001b[1;33m\u001b[0m\u001b[0m\n\u001b[1;32m--> 497\u001b[1;33m           outputs = execute.execute(\n\u001b[0m\u001b[0;32m    498\u001b[0m               \u001b[0mstr\u001b[0m\u001b[1;33m(\u001b[0m\u001b[0mself\u001b[0m\u001b[1;33m.\u001b[0m\u001b[0msignature\u001b[0m\u001b[1;33m.\u001b[0m\u001b[0mname\u001b[0m\u001b[1;33m)\u001b[0m\u001b[1;33m,\u001b[0m\u001b[1;33m\u001b[0m\u001b[1;33m\u001b[0m\u001b[0m\n\u001b[0;32m    499\u001b[0m               \u001b[0mnum_outputs\u001b[0m\u001b[1;33m=\u001b[0m\u001b[0mself\u001b[0m\u001b[1;33m.\u001b[0m\u001b[0m_num_outputs\u001b[0m\u001b[1;33m,\u001b[0m\u001b[1;33m\u001b[0m\u001b[1;33m\u001b[0m\u001b[0m\n",
      "\u001b[1;32m~\\anaconda3\\lib\\site-packages\\tensorflow\\python\\eager\\execute.py\u001b[0m in \u001b[0;36mquick_execute\u001b[1;34m(op_name, num_outputs, inputs, attrs, ctx, name)\u001b[0m\n\u001b[0;32m     52\u001b[0m   \u001b[1;32mtry\u001b[0m\u001b[1;33m:\u001b[0m\u001b[1;33m\u001b[0m\u001b[1;33m\u001b[0m\u001b[0m\n\u001b[0;32m     53\u001b[0m     \u001b[0mctx\u001b[0m\u001b[1;33m.\u001b[0m\u001b[0mensure_initialized\u001b[0m\u001b[1;33m(\u001b[0m\u001b[1;33m)\u001b[0m\u001b[1;33m\u001b[0m\u001b[1;33m\u001b[0m\u001b[0m\n\u001b[1;32m---> 54\u001b[1;33m     tensors = pywrap_tfe.TFE_Py_Execute(ctx._handle, device_name, op_name,\n\u001b[0m\u001b[0;32m     55\u001b[0m                                         inputs, attrs, num_outputs)\n\u001b[0;32m     56\u001b[0m   \u001b[1;32mexcept\u001b[0m \u001b[0mcore\u001b[0m\u001b[1;33m.\u001b[0m\u001b[0m_NotOkStatusException\u001b[0m \u001b[1;32mas\u001b[0m \u001b[0me\u001b[0m\u001b[1;33m:\u001b[0m\u001b[1;33m\u001b[0m\u001b[1;33m\u001b[0m\u001b[0m\n",
      "\u001b[1;31mKeyboardInterrupt\u001b[0m: "
     ]
    }
   ],
   "source": [
    "models = []\n",
    "all_history = []\n",
    "for i in range(4):\n",
    "    print(\"#\"*20)\n",
    "    print(f\"Model number {i + 1}\")\n",
    "    print(\"#\"*20)\n",
    "    \n",
    "    history, model = train(\n",
    "        epochs=12,\n",
    "        batch_size=128, i = i+1)\n",
    "    \n",
    "    models.append(model)\n",
    "    all_history.append(history)"
   ]
  },
  {
   "cell_type": "code",
   "execution_count": 18,
   "id": "ba9f1f7b",
   "metadata": {},
   "outputs": [
    {
     "data": {
      "text/plain": [
       "[<keras.engine.functional.Functional at 0x21c90377d30>,\n",
       " <keras.engine.functional.Functional at 0x21cb5153f10>]"
      ]
     },
     "execution_count": 18,
     "metadata": {},
     "output_type": "execute_result"
    }
   ],
   "source": [
    "models"
   ]
  },
  {
   "cell_type": "code",
   "execution_count": 17,
   "id": "c872dc6f",
   "metadata": {},
   "outputs": [],
   "source": [
    "def create_submission(predictions,keys,path):\n",
    "    result = pd.DataFrame(\n",
    "        predictions,\n",
    "        columns=['Label'],\n",
    "        index=keys\n",
    "        )\n",
    "    result.index.name='ImageId'\n",
    "    result.to_csv(path, index=True)"
   ]
  },
  {
   "cell_type": "code",
   "execution_count": 19,
   "id": "41e07f30",
   "metadata": {},
   "outputs": [
    {
     "name": "stdout",
     "output_type": "stream",
     "text": [
      "875/875 [==============================] - 125s 141ms/step\n",
      "875/875 [==============================] - 127s 145ms/step\n"
     ]
    }
   ],
   "source": [
    "predictions_prob_0=models[0].predict(X_test_all)\n",
    "predictions_prob_1=models[1].predict(X_test_all) "
   ]
  },
  {
   "cell_type": "code",
   "execution_count": 20,
   "id": "b7310c25",
   "metadata": {},
   "outputs": [],
   "source": [
    "labels_0=[np.argmax(pred) for pred in predictions_prob_0]\n",
    "labels_1=[np.argmax(pred) for pred in predictions_prob_0]"
   ]
  },
  {
   "cell_type": "code",
   "execution_count": 21,
   "id": "c49b1588",
   "metadata": {},
   "outputs": [],
   "source": [
    "keys=[i for i in range(1,28001) ]"
   ]
  },
  {
   "cell_type": "code",
   "execution_count": 22,
   "id": "a68680ad",
   "metadata": {},
   "outputs": [],
   "source": [
    "create_submission(predictions=labels_0,keys=keys,path='submission_resnet_0.csv')\n",
    "create_submission(predictions=labels_1,keys=keys,path='submission_resnet_1.csv')"
   ]
  },
  {
   "cell_type": "markdown",
   "id": "9e753966",
   "metadata": {},
   "source": [
    "Prediction Score on Kaggle: 0.99282"
   ]
  },
  {
   "cell_type": "code",
   "execution_count": null,
   "id": "53537c95",
   "metadata": {},
   "outputs": [],
   "source": []
  }
 ],
 "metadata": {
  "kernelspec": {
   "display_name": "Python 3 (ipykernel)",
   "language": "python",
   "name": "python3"
  },
  "language_info": {
   "codemirror_mode": {
    "name": "ipython",
    "version": 3
   },
   "file_extension": ".py",
   "mimetype": "text/x-python",
   "name": "python",
   "nbconvert_exporter": "python",
   "pygments_lexer": "ipython3",
   "version": "3.9.7"
  }
 },
 "nbformat": 4,
 "nbformat_minor": 5
}
