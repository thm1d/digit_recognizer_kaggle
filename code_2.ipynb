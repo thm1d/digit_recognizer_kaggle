{
 "cells": [
  {
   "cell_type": "code",
   "execution_count": 1,
   "id": "6801da5f",
   "metadata": {},
   "outputs": [],
   "source": [
    "# importing the dependencies\n",
    "import numpy as np \n",
    "import pandas as pd \n",
    "import os\n",
    "import matplotlib.pyplot as plt\n",
    "import seaborn as sns\n",
    "from tensorflow.keras.models import load_model\n",
    "import keras\n",
    "from keras.models import Sequential\n",
    "from keras.layers import Dense, Conv2D , MaxPool2D , Flatten , Dropout , BatchNormalization\n",
    "from keras.preprocessing.image import ImageDataGenerator\n",
    "from sklearn.model_selection import train_test_split\n",
    "from sklearn.metrics import classification_report,confusion_matrix\n",
    "from keras.callbacks import ReduceLROnPlateau"
   ]
  },
  {
   "cell_type": "code",
   "execution_count": 2,
   "id": "c92108a4",
   "metadata": {},
   "outputs": [
    {
     "name": "stdout",
     "output_type": "stream",
     "text": [
      "..\\Datasets\\Digit Recognizer\\sample_submission.csv\n",
      "..\\Datasets\\Digit Recognizer\\test.csv\n",
      "..\\Datasets\\Digit Recognizer\\test.csv.zip\n",
      "..\\Datasets\\Digit Recognizer\\train.csv\n",
      "..\\Datasets\\Digit Recognizer\\train.csv.zip\n"
     ]
    }
   ],
   "source": [
    "for dirname, _, filenames in os.walk('..\\Datasets\\Digit Recognizer'):\n",
    "    for filename in filenames:\n",
    "        print(os.path.join(dirname, filename))"
   ]
  },
  {
   "cell_type": "code",
   "execution_count": 3,
   "id": "ca22ad90",
   "metadata": {},
   "outputs": [],
   "source": [
    "# loading the dataset\n",
    "train_df = pd.read_csv(\"../Datasets/Digit Recognizer/train.csv\")\n",
    "test_df = pd.read_csv(\"../Datasets/Digit Recognizer/test.csv\")\n",
    "train = pd.read_csv(\"../Datasets/Digit Recognizer/train.csv\") \n",
    "test = pd.read_csv(\"../Datasets/Digit Recognizer/test.csv\")"
   ]
  },
  {
   "cell_type": "code",
   "execution_count": 4,
   "id": "aa156bc3",
   "metadata": {},
   "outputs": [],
   "source": [
    "y_train = train_df['label']\n",
    "del train_df['label']"
   ]
  },
  {
   "cell_type": "code",
   "execution_count": 5,
   "id": "c4b32894",
   "metadata": {},
   "outputs": [],
   "source": [
    "from sklearn.preprocessing import LabelBinarizer\n",
    "label_binarizer = LabelBinarizer()\n",
    "y_train_bin = label_binarizer.fit_transform(y_train)"
   ]
  },
  {
   "cell_type": "code",
   "execution_count": 6,
   "id": "e0099e8b",
   "metadata": {},
   "outputs": [],
   "source": [
    "X_train = train_df.values\n",
    "X_test = test_df.values"
   ]
  },
  {
   "cell_type": "code",
   "execution_count": 7,
   "id": "14bf04ad",
   "metadata": {},
   "outputs": [],
   "source": [
    "# Normalize the data\n",
    "X_train = X_train / 255\n",
    "X_test = X_test / 255"
   ]
  },
  {
   "cell_type": "code",
   "execution_count": 8,
   "id": "fbbed9a7",
   "metadata": {},
   "outputs": [],
   "source": [
    "X_train_all = X_train.reshape(X_train.shape[0],28, 28,1).astype('float32')\n",
    "X_test_all = X_test.reshape(X_test.shape[0],28, 28,1).astype('float32')"
   ]
  },
  {
   "cell_type": "code",
   "execution_count": 9,
   "id": "7dbf75e1",
   "metadata": {},
   "outputs": [],
   "source": [
    "from sklearn.model_selection import train_test_split\n",
    "X_train, X_val, y_train, y_val = train_test_split(X_train_all, y_train_bin, test_size=0.20, random_state=42, shuffle=True)"
   ]
  },
  {
   "cell_type": "code",
   "execution_count": 10,
   "id": "67cefde3",
   "metadata": {},
   "outputs": [
    {
     "data": {
      "image/png": "[encoded data removed]",
      "text/plain": [
       "<Figure size 432x288 with 1 Axes>"
      ]
     },
     "metadata": {
      "needs_background": "light"
     },
     "output_type": "display_data"
    },
    {
     "data": {
      "text/plain": [
       "array([0, 0, 0, 0, 0, 0, 1, 0, 0, 0])"
      ]
     },
     "execution_count": 10,
     "metadata": {},
     "output_type": "execute_result"
    }
   ],
   "source": [
    "index = 123\n",
    "plt.imshow(X_train[index])\n",
    "plt.show()\n",
    "y_train[index]"
   ]
  },
  {
   "cell_type": "code",
   "execution_count": 12,
   "id": "51614387",
   "metadata": {},
   "outputs": [],
   "source": [
    "learning_rate_reduction = ReduceLROnPlateau(monitor='val_accuracy', patience = 2, verbose=1,factor=0.5, min_lr=0.001)"
   ]
  },
  {
   "cell_type": "code",
   "execution_count": 14,
   "id": "23932abd",
   "metadata": {},
   "outputs": [
    {
     "name": "stdout",
     "output_type": "stream",
     "text": [
      "Model: \"sequential_1\"\n",
      "_________________________________________________________________\n",
      " Layer (type)                Output Shape              Param #   \n",
      "=================================================================\n",
      " conv2d_3 (Conv2D)           (None, 28, 28, 75)        750       \n",
      "                                                                 \n",
      " batch_normalization_3 (Batc  (None, 28, 28, 75)       300       \n",
      " hNormalization)                                                 \n",
      "                                                                 \n",
      " max_pooling2d_3 (MaxPooling  (None, 14, 14, 75)       0         \n",
      " 2D)                                                             \n",
      "                                                                 \n",
      " conv2d_4 (Conv2D)           (None, 14, 14, 50)        33800     \n",
      "                                                                 \n",
      " dropout_2 (Dropout)         (None, 14, 14, 50)        0         \n",
      "                                                                 \n",
      " batch_normalization_4 (Batc  (None, 14, 14, 50)       200       \n",
      " hNormalization)                                                 \n",
      "                                                                 \n",
      " max_pooling2d_4 (MaxPooling  (None, 7, 7, 50)         0         \n",
      " 2D)                                                             \n",
      "                                                                 \n",
      " conv2d_5 (Conv2D)           (None, 7, 7, 25)          11275     \n",
      "                                                                 \n",
      " batch_normalization_5 (Batc  (None, 7, 7, 25)         100       \n",
      " hNormalization)                                                 \n",
      "                                                                 \n",
      " max_pooling2d_5 (MaxPooling  (None, 4, 4, 25)         0         \n",
      " 2D)                                                             \n",
      "                                                                 \n",
      " flatten_1 (Flatten)         (None, 400)               0         \n",
      "                                                                 \n",
      " dense_2 (Dense)             (None, 512)               205312    \n",
      "                                                                 \n",
      " dropout_3 (Dropout)         (None, 512)               0         \n",
      "                                                                 \n",
      " dense_3 (Dense)             (None, 10)                5130      \n",
      "                                                                 \n",
      "=================================================================\n",
      "Total params: 256,867\n",
      "Trainable params: 256,567\n",
      "Non-trainable params: 300\n",
      "_________________________________________________________________\n"
     ]
    }
   ],
   "source": [
    "model = Sequential()\n",
    "model.add(Conv2D(75 , (3,3) , strides = 1 , padding = 'same' , activation = 'relu' , input_shape = (28,28,1)))\n",
    "model.add(BatchNormalization())\n",
    "model.add(MaxPool2D((2,2) , strides = 2 , padding = 'same'))\n",
    "model.add(Conv2D(50 , (3,3) , strides = 1 , padding = 'same' , activation = 'relu'))\n",
    "model.add(Dropout(0.2))\n",
    "model.add(BatchNormalization())\n",
    "model.add(MaxPool2D((2,2) , strides = 2 , padding = 'same'))\n",
    "model.add(Conv2D(25 , (3,3) , strides = 1 , padding = 'same' , activation = 'relu'))\n",
    "model.add(BatchNormalization())\n",
    "model.add(MaxPool2D((2,2) , strides = 2 , padding = 'same'))\n",
    "model.add(Flatten())\n",
    "model.add(Dense(units = 512 , activation = 'relu'))\n",
    "model.add(Dropout(0.3))\n",
    "model.add(Dense(units = 10 , activation = 'softmax'))\n",
    "\n",
    "model.compile(optimizer = 'adam' , loss = 'categorical_crossentropy' , metrics = ['accuracy'])\n",
    "model.summary()"
   ]
  },
  {
   "cell_type": "code",
   "execution_count": 15,
   "id": "02b6586b",
   "metadata": {},
   "outputs": [
    {
     "name": "stdout",
     "output_type": "stream",
     "text": [
      "Epoch 1/20\n",
      "263/263 [==============================] - 128s 482ms/step - loss: 0.1972 - accuracy: 0.9390 - val_loss: 2.5202 - val_accuracy: 0.1294 - lr: 0.0010\n",
      "Epoch 2/20\n",
      "263/263 [==============================] - 115s 439ms/step - loss: 0.0581 - accuracy: 0.9816 - val_loss: 0.1281 - val_accuracy: 0.9699 - lr: 0.0010\n",
      "Epoch 3/20\n",
      "263/263 [==============================] - 95s 362ms/step - loss: 0.0427 - accuracy: 0.9861 - val_loss: 0.0534 - val_accuracy: 0.9831 - lr: 0.0010\n",
      "Epoch 4/20\n",
      "263/263 [==============================] - 142s 541ms/step - loss: 0.0333 - accuracy: 0.9889 - val_loss: 0.0411 - val_accuracy: 0.9862 - lr: 0.0010\n",
      "Epoch 5/20\n",
      "263/263 [==============================] - 121s 459ms/step - loss: 0.0282 - accuracy: 0.9905 - val_loss: 0.0327 - val_accuracy: 0.9895 - lr: 0.0010\n",
      "Epoch 6/20\n",
      "263/263 [==============================] - 119s 451ms/step - loss: 0.0240 - accuracy: 0.9920 - val_loss: 0.0392 - val_accuracy: 0.9876 - lr: 0.0010\n",
      "Epoch 7/20\n",
      "263/263 [==============================] - 126s 479ms/step - loss: 0.0209 - accuracy: 0.9930 - val_loss: 0.0313 - val_accuracy: 0.9904 - lr: 0.0010\n",
      "Epoch 8/20\n",
      "263/263 [==============================] - 127s 482ms/step - loss: 0.0165 - accuracy: 0.9943 - val_loss: 0.0610 - val_accuracy: 0.9845 - lr: 0.0010\n",
      "Epoch 9/20\n",
      "263/263 [==============================] - 125s 474ms/step - loss: 0.0166 - accuracy: 0.9947 - val_loss: 0.0629 - val_accuracy: 0.9830 - lr: 0.0010\n",
      "Epoch 10/20\n",
      "263/263 [==============================] - 115s 438ms/step - loss: 0.0130 - accuracy: 0.9957 - val_loss: 0.0407 - val_accuracy: 0.9870 - lr: 0.0010\n",
      "Epoch 11/20\n",
      "263/263 [==============================] - 100s 381ms/step - loss: 0.0139 - accuracy: 0.9956 - val_loss: 0.0311 - val_accuracy: 0.9921 - lr: 0.0010\n",
      "Epoch 12/20\n",
      "263/263 [==============================] - 119s 454ms/step - loss: 0.0150 - accuracy: 0.9949 - val_loss: 0.0341 - val_accuracy: 0.9910 - lr: 0.0010\n",
      "Epoch 13/20\n",
      "263/263 [==============================] - 124s 472ms/step - loss: 0.0123 - accuracy: 0.9956 - val_loss: 0.0411 - val_accuracy: 0.9894 - lr: 0.0010\n",
      "Epoch 14/20\n",
      "263/263 [==============================] - 127s 484ms/step - loss: 0.0127 - accuracy: 0.9956 - val_loss: 0.0373 - val_accuracy: 0.9904 - lr: 0.0010\n",
      "Epoch 15/20\n",
      "263/263 [==============================] - 123s 469ms/step - loss: 0.0115 - accuracy: 0.9960 - val_loss: 0.0350 - val_accuracy: 0.9912 - lr: 0.0010\n",
      "Epoch 16/20\n",
      "263/263 [==============================] - 136s 518ms/step - loss: 0.0094 - accuracy: 0.9966 - val_loss: 0.0385 - val_accuracy: 0.9902 - lr: 0.0010\n",
      "Epoch 17/20\n",
      "263/263 [==============================] - 147s 559ms/step - loss: 0.0108 - accuracy: 0.9968 - val_loss: 0.0461 - val_accuracy: 0.9886 - lr: 0.0010\n",
      "Epoch 18/20\n",
      "263/263 [==============================] - 116s 442ms/step - loss: 0.0156 - accuracy: 0.9951 - val_loss: 0.0389 - val_accuracy: 0.9900 - lr: 0.0010\n",
      "Epoch 19/20\n",
      "263/263 [==============================] - 105s 401ms/step - loss: 0.0087 - accuracy: 0.9973 - val_loss: 0.0428 - val_accuracy: 0.9896 - lr: 0.0010\n",
      "Epoch 20/20\n",
      "263/263 [==============================] - 103s 393ms/step - loss: 0.0084 - accuracy: 0.9970 - val_loss: 0.0424 - val_accuracy: 0.9906 - lr: 0.0010\n"
     ]
    }
   ],
   "source": [
    "history = model.fit(X_train,y_train, batch_size = 128 ,epochs = 20 , validation_data = (X_val, y_val) , callbacks = [learning_rate_reduction])"
   ]
  },
  {
   "cell_type": "code",
   "execution_count": 16,
   "id": "ba9f1f7b",
   "metadata": {},
   "outputs": [],
   "source": [
    "model.save('cnn_3l_bn_20.h5')"
   ]
  },
  {
   "cell_type": "code",
   "execution_count": 17,
   "id": "c872dc6f",
   "metadata": {},
   "outputs": [],
   "source": [
    "def create_submission(predictions,keys,path):\n",
    "    result = pd.DataFrame(\n",
    "        predictions,\n",
    "        columns=['Label'],\n",
    "        index=keys\n",
    "        )\n",
    "    result.index.name='ImageId'\n",
    "    result.to_csv(path, index=True)"
   ]
  },
  {
   "cell_type": "code",
   "execution_count": 18,
   "id": "41e07f30",
   "metadata": {},
   "outputs": [
    {
     "name": "stdout",
     "output_type": "stream",
     "text": [
      "875/875 [==============================] - 23s 26ms/step\n"
     ]
    }
   ],
   "source": [
    "predictions_prob=model.predict(X_test_all) # get predictions for all the test data"
   ]
  },
  {
   "cell_type": "code",
   "execution_count": 19,
   "id": "b7310c25",
   "metadata": {},
   "outputs": [],
   "source": [
    "labels=[np.argmax(pred) for pred in predictions_prob]"
   ]
  },
  {
   "cell_type": "code",
   "execution_count": 20,
   "id": "c49b1588",
   "metadata": {},
   "outputs": [],
   "source": [
    "keys=[i for i in range(1,28001) ]"
   ]
  },
  {
   "cell_type": "code",
   "execution_count": 22,
   "id": "a68680ad",
   "metadata": {},
   "outputs": [],
   "source": [
    "create_submission(predictions=labels,keys=keys,path='submission_cnn_3l_bn_20.csv')"
   ]
  },
  {
   "cell_type": "markdown",
   "id": "9e753966",
   "metadata": {},
   "source": [
    "Prediction Score on Kaggle: 0.98957"
   ]
  },
  {
   "cell_type": "code",
   "execution_count": null,
   "id": "0334057e",
   "metadata": {},
   "outputs": [],
   "source": []
  }
 ],
 "metadata": {
  "kernelspec": {
   "display_name": "Python 3 (ipykernel)",
   "language": "python",
   "name": "python3"
  },
  "language_info": {
   "codemirror_mode": {
    "name": "ipython",
    "version": 3
   },
   "file_extension": ".py",
   "mimetype": "text/x-python",
   "name": "python",
   "nbconvert_exporter": "python",
   "pygments_lexer": "ipython3",
   "version": "3.9.7"
  }
 },
 "nbformat": 4,
 "nbformat_minor": 5
}
