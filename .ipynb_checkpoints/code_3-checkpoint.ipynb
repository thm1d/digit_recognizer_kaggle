{
 "cells": [
  {
   "cell_type": "code",
   "execution_count": 13,
   "id": "6801da5f",
   "metadata": {},
   "outputs": [],
   "source": [
    "# importing the dependencies\n",
    "import numpy as np \n",
    "import pandas as pd \n",
    "import os\n",
    "import matplotlib.pyplot as plt\n",
    "import seaborn as sns\n",
    "from tensorflow.keras.models import load_model\n",
    "import keras\n",
    "from keras.models import Sequential\n",
    "from keras.layers import Dense, Conv2D , MaxPool2D , Flatten , Dropout , BatchNormalization, LayerNormalization\n",
    "from keras.preprocessing.image import ImageDataGenerator\n",
    "from sklearn.model_selection import train_test_split\n",
    "from sklearn.metrics import classification_report,confusion_matrix\n",
    "from keras.callbacks import ReduceLROnPlateau"
   ]
  },
  {
   "cell_type": "code",
   "execution_count": 2,
   "id": "c92108a4",
   "metadata": {},
   "outputs": [
    {
     "name": "stdout",
     "output_type": "stream",
     "text": [
      "..\\Datasets\\Digit Recognizer\\sample_submission.csv\n",
      "..\\Datasets\\Digit Recognizer\\test.csv\n",
      "..\\Datasets\\Digit Recognizer\\test.csv.zip\n",
      "..\\Datasets\\Digit Recognizer\\train.csv\n",
      "..\\Datasets\\Digit Recognizer\\train.csv.zip\n"
     ]
    }
   ],
   "source": [
    "for dirname, _, filenames in os.walk('..\\Datasets\\Digit Recognizer'):\n",
    "    for filename in filenames:\n",
    "        print(os.path.join(dirname, filename))"
   ]
  },
  {
   "cell_type": "code",
   "execution_count": 3,
   "id": "ca22ad90",
   "metadata": {},
   "outputs": [],
   "source": [
    "# loading the dataset\n",
    "train_df = pd.read_csv(\"../Datasets/Digit Recognizer/train.csv\")\n",
    "test_df = pd.read_csv(\"../Datasets/Digit Recognizer/test.csv\")\n",
    "train = pd.read_csv(\"../Datasets/Digit Recognizer/train.csv\") \n",
    "test = pd.read_csv(\"../Datasets/Digit Recognizer/test.csv\")"
   ]
  },
  {
   "cell_type": "code",
   "execution_count": 4,
   "id": "aa156bc3",
   "metadata": {},
   "outputs": [],
   "source": [
    "y_train = train_df['label']\n",
    "del train_df['label']"
   ]
  },
  {
   "cell_type": "code",
   "execution_count": 5,
   "id": "c4b32894",
   "metadata": {},
   "outputs": [],
   "source": [
    "from sklearn.preprocessing import LabelBinarizer\n",
    "label_binarizer = LabelBinarizer()\n",
    "y_train_bin = label_binarizer.fit_transform(y_train)"
   ]
  },
  {
   "cell_type": "code",
   "execution_count": 6,
   "id": "e0099e8b",
   "metadata": {},
   "outputs": [],
   "source": [
    "X_train = train_df.values\n",
    "X_test = test_df.values"
   ]
  },
  {
   "cell_type": "code",
   "execution_count": 7,
   "id": "14bf04ad",
   "metadata": {},
   "outputs": [],
   "source": [
    "# Normalize the data\n",
    "X_train = X_train / 255\n",
    "X_test = X_test / 255"
   ]
  },
  {
   "cell_type": "code",
   "execution_count": 8,
   "id": "fbbed9a7",
   "metadata": {},
   "outputs": [],
   "source": [
    "X_train_all = X_train.reshape(X_train.shape[0],28, 28,1).astype('float32')\n",
    "X_test_all = X_test.reshape(X_test.shape[0],28, 28,1).astype('float32')"
   ]
  },
  {
   "cell_type": "code",
   "execution_count": 9,
   "id": "7dbf75e1",
   "metadata": {},
   "outputs": [],
   "source": [
    "from sklearn.model_selection import train_test_split\n",
    "X_train, X_val, y_train, y_val = train_test_split(X_train_all, y_train_bin, test_size=0.20, random_state=42, shuffle=True)"
   ]
  },
  {
   "cell_type": "code",
   "execution_count": 10,
   "id": "67cefde3",
   "metadata": {},
   "outputs": [
    {
     "data": {
      "image/png": "[encoded data removed]",
      "text/plain": [
       "<Figure size 432x288 with 1 Axes>"
      ]
     },
     "metadata": {
      "needs_background": "light"
     },
     "output_type": "display_data"
    },
    {
     "data": {
      "text/plain": [
       "array([0, 0, 0, 0, 0, 0, 1, 0, 0, 0])"
      ]
     },
     "execution_count": 10,
     "metadata": {},
     "output_type": "execute_result"
    }
   ],
   "source": [
    "index = 123\n",
    "plt.imshow(X_train[index])\n",
    "plt.show()\n",
    "y_train[index]"
   ]
  },
  {
   "cell_type": "code",
   "execution_count": 11,
   "id": "51614387",
   "metadata": {},
   "outputs": [],
   "source": [
    "learning_rate_reduction = ReduceLROnPlateau(monitor='val_accuracy', patience = 2, verbose=1,factor=0.5, min_lr=0.001)"
   ]
  },
  {
   "cell_type": "code",
   "execution_count": 14,
   "id": "23932abd",
   "metadata": {},
   "outputs": [
    {
     "name": "stdout",
     "output_type": "stream",
     "text": [
      "Model: \"sequential_1\"\n",
      "_________________________________________________________________\n",
      " Layer (type)                Output Shape              Param #   \n",
      "=================================================================\n",
      " conv2d_1 (Conv2D)           (None, 28, 28, 75)        750       \n",
      "                                                                 \n",
      " layer_normalization (LayerN  (None, 28, 28, 75)       150       \n",
      " ormalization)                                                   \n",
      "                                                                 \n",
      " max_pooling2d (MaxPooling2D  (None, 14, 14, 75)       0         \n",
      " )                                                               \n",
      "                                                                 \n",
      " conv2d_2 (Conv2D)           (None, 14, 14, 50)        33800     \n",
      "                                                                 \n",
      " dropout (Dropout)           (None, 14, 14, 50)        0         \n",
      "                                                                 \n",
      " layer_normalization_1 (Laye  (None, 14, 14, 50)       100       \n",
      " rNormalization)                                                 \n",
      "                                                                 \n",
      " max_pooling2d_1 (MaxPooling  (None, 7, 7, 50)         0         \n",
      " 2D)                                                             \n",
      "                                                                 \n",
      " conv2d_3 (Conv2D)           (None, 7, 7, 25)          11275     \n",
      "                                                                 \n",
      " layer_normalization_2 (Laye  (None, 7, 7, 25)         50        \n",
      " rNormalization)                                                 \n",
      "                                                                 \n",
      " max_pooling2d_2 (MaxPooling  (None, 4, 4, 25)         0         \n",
      " 2D)                                                             \n",
      "                                                                 \n",
      " flatten (Flatten)           (None, 400)               0         \n",
      "                                                                 \n",
      " dense (Dense)               (None, 512)               205312    \n",
      "                                                                 \n",
      " dropout_1 (Dropout)         (None, 512)               0         \n",
      "                                                                 \n",
      " dense_1 (Dense)             (None, 10)                5130      \n",
      "                                                                 \n",
      "=================================================================\n",
      "Total params: 256,567\n",
      "Trainable params: 256,567\n",
      "Non-trainable params: 0\n",
      "_________________________________________________________________\n"
     ]
    }
   ],
   "source": [
    "model = Sequential()\n",
    "model.add(Conv2D(75 , (3,3) , strides = 1 , padding = 'same' , activation = 'relu' , input_shape = (28,28,1)))\n",
    "model.add(LayerNormalization())\n",
    "model.add(MaxPool2D((2,2) , strides = 2 , padding = 'same'))\n",
    "model.add(Conv2D(50 , (3,3) , strides = 1 , padding = 'same' , activation = 'relu'))\n",
    "model.add(Dropout(0.2))\n",
    "model.add(LayerNormalization())\n",
    "model.add(MaxPool2D((2,2) , strides = 2 , padding = 'same'))\n",
    "model.add(Conv2D(25 , (3,3) , strides = 1 , padding = 'same' , activation = 'relu'))\n",
    "model.add(LayerNormalization())\n",
    "model.add(MaxPool2D((2,2) , strides = 2 , padding = 'same'))\n",
    "model.add(Flatten())\n",
    "model.add(Dense(units = 512 , activation = 'relu'))\n",
    "model.add(Dropout(0.3))\n",
    "model.add(Dense(units = 10 , activation = 'softmax'))\n",
    "\n",
    "model.compile(optimizer = 'adam' , loss = 'categorical_crossentropy' , metrics = ['accuracy'])\n",
    "model.summary()"
   ]
  },
  {
   "cell_type": "code",
   "execution_count": 15,
   "id": "02b6586b",
   "metadata": {},
   "outputs": [
    {
     "name": "stdout",
     "output_type": "stream",
     "text": [
      "Epoch 1/20\n",
      "263/263 [==============================] - 210s 790ms/step - loss: 0.2564 - accuracy: 0.9181 - val_loss: 0.0623 - val_accuracy: 0.9804 - lr: 0.0010\n",
      "Epoch 2/20\n",
      "263/263 [==============================] - 186s 707ms/step - loss: 0.0672 - accuracy: 0.9787 - val_loss: 0.0531 - val_accuracy: 0.9838 - lr: 0.0010\n",
      "Epoch 3/20\n",
      "263/263 [==============================] - 170s 646ms/step - loss: 0.0488 - accuracy: 0.9841 - val_loss: 0.0373 - val_accuracy: 0.9876 - lr: 0.0010\n",
      "Epoch 4/20\n",
      "263/263 [==============================] - 167s 636ms/step - loss: 0.0384 - accuracy: 0.9882 - val_loss: 0.0332 - val_accuracy: 0.9898 - lr: 0.0010\n",
      "Epoch 5/20\n",
      "263/263 [==============================] - 167s 633ms/step - loss: 0.0339 - accuracy: 0.9887 - val_loss: 0.0361 - val_accuracy: 0.9885 - lr: 0.0010\n",
      "Epoch 6/20\n",
      "263/263 [==============================] - 166s 630ms/step - loss: 0.0268 - accuracy: 0.9913 - val_loss: 0.0356 - val_accuracy: 0.9886 - lr: 0.0010\n",
      "Epoch 7/20\n",
      "263/263 [==============================] - 164s 625ms/step - loss: 0.0230 - accuracy: 0.9927 - val_loss: 0.0327 - val_accuracy: 0.9907 - lr: 0.0010\n",
      "Epoch 8/20\n",
      "263/263 [==============================] - 168s 638ms/step - loss: 0.0214 - accuracy: 0.9931 - val_loss: 0.0270 - val_accuracy: 0.9915 - lr: 0.0010\n",
      "Epoch 9/20\n",
      "263/263 [==============================] - 166s 632ms/step - loss: 0.0190 - accuracy: 0.9938 - val_loss: 0.0355 - val_accuracy: 0.9899 - lr: 0.0010\n",
      "Epoch 10/20\n",
      "263/263 [==============================] - 165s 629ms/step - loss: 0.0180 - accuracy: 0.9940 - val_loss: 0.0335 - val_accuracy: 0.9894 - lr: 0.0010\n",
      "Epoch 11/20\n",
      "263/263 [==============================] - 164s 623ms/step - loss: 0.0183 - accuracy: 0.9940 - val_loss: 0.0412 - val_accuracy: 0.9879 - lr: 0.0010\n",
      "Epoch 12/20\n",
      "263/263 [==============================] - 164s 623ms/step - loss: 0.0149 - accuracy: 0.9952 - val_loss: 0.0254 - val_accuracy: 0.9915 - lr: 0.0010\n",
      "Epoch 13/20\n",
      "263/263 [==============================] - 164s 623ms/step - loss: 0.0114 - accuracy: 0.9959 - val_loss: 0.0409 - val_accuracy: 0.9879 - lr: 0.0010\n",
      "Epoch 14/20\n",
      "263/263 [==============================] - 167s 635ms/step - loss: 0.0135 - accuracy: 0.9957 - val_loss: 0.0342 - val_accuracy: 0.9896 - lr: 0.0010\n",
      "Epoch 15/20\n",
      "263/263 [==============================] - 206s 782ms/step - loss: 0.0125 - accuracy: 0.9961 - val_loss: 0.0291 - val_accuracy: 0.9921 - lr: 0.0010\n",
      "Epoch 16/20\n",
      "263/263 [==============================] - 198s 755ms/step - loss: 0.0122 - accuracy: 0.9960 - val_loss: 0.0282 - val_accuracy: 0.9915 - lr: 0.0010\n",
      "Epoch 17/20\n",
      "263/263 [==============================] - 166s 630ms/step - loss: 0.0130 - accuracy: 0.9960 - val_loss: 0.0352 - val_accuracy: 0.9902 - lr: 0.0010\n",
      "Epoch 18/20\n",
      "263/263 [==============================] - 166s 633ms/step - loss: 0.0127 - accuracy: 0.9956 - val_loss: 0.0413 - val_accuracy: 0.9895 - lr: 0.0010\n",
      "Epoch 19/20\n",
      "263/263 [==============================] - 164s 623ms/step - loss: 0.0109 - accuracy: 0.9963 - val_loss: 0.0300 - val_accuracy: 0.9925 - lr: 0.0010\n",
      "Epoch 20/20\n",
      "263/263 [==============================] - 164s 624ms/step - loss: 0.0100 - accuracy: 0.9965 - val_loss: 0.0321 - val_accuracy: 0.9914 - lr: 0.0010\n"
     ]
    }
   ],
   "source": [
    "history = model.fit(X_train,y_train, batch_size = 128 ,epochs = 20 , validation_data = (X_val, y_val) , callbacks = [learning_rate_reduction])"
   ]
  },
  {
   "cell_type": "code",
   "execution_count": 16,
   "id": "ba9f1f7b",
   "metadata": {},
   "outputs": [],
   "source": [
    "model.save('cnn_3l_ln_20.h5')"
   ]
  },
  {
   "cell_type": "code",
   "execution_count": 17,
   "id": "c872dc6f",
   "metadata": {},
   "outputs": [],
   "source": [
    "def create_submission(predictions,keys,path):\n",
    "    result = pd.DataFrame(\n",
    "        predictions,\n",
    "        columns=['Label'],\n",
    "        index=keys\n",
    "        )\n",
    "    result.index.name='ImageId'\n",
    "    result.to_csv(path, index=True)"
   ]
  },
  {
   "cell_type": "code",
   "execution_count": 18,
   "id": "41e07f30",
   "metadata": {},
   "outputs": [
    {
     "name": "stdout",
     "output_type": "stream",
     "text": [
      "875/875 [==============================] - 37s 41ms/step\n"
     ]
    }
   ],
   "source": [
    "predictions_prob=model.predict(X_test_all) # get predictions for all the test data"
   ]
  },
  {
   "cell_type": "code",
   "execution_count": 19,
   "id": "b7310c25",
   "metadata": {},
   "outputs": [],
   "source": [
    "labels=[np.argmax(pred) for pred in predictions_prob]"
   ]
  },
  {
   "cell_type": "code",
   "execution_count": 20,
   "id": "c49b1588",
   "metadata": {},
   "outputs": [],
   "source": [
    "keys=[i for i in range(1,28001) ]"
   ]
  },
  {
   "cell_type": "code",
   "execution_count": 21,
   "id": "a68680ad",
   "metadata": {},
   "outputs": [],
   "source": [
    "create_submission(predictions=labels,keys=keys,path='submission_cnn_3l_ln_20.csv')"
   ]
  },
  {
   "cell_type": "markdown",
   "id": "9e753966",
   "metadata": {},
   "source": [
    "Prediction Score on Kaggle: 0.98971"
   ]
  },
  {
   "cell_type": "code",
   "execution_count": null,
   "id": "0334057e",
   "metadata": {},
   "outputs": [],
   "source": []
  }
 ],
 "metadata": {
  "kernelspec": {
   "display_name": "Python 3 (ipykernel)",
   "language": "python",
   "name": "python3"
  },
  "language_info": {
   "codemirror_mode": {
    "name": "ipython",
    "version": 3
   },
   "file_extension": ".py",
   "mimetype": "text/x-python",
   "name": "python",
   "nbconvert_exporter": "python",
   "pygments_lexer": "ipython3",
   "version": "3.9.7"
  }
 },
 "nbformat": 4,
 "nbformat_minor": 5
}
